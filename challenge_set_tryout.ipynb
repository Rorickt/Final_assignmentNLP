{
 "cells": [
  {
   "cell_type": "markdown",
   "id": "43bce2f7-3a97-4491-93a2-0a9e568ffb01",
   "metadata": {},
   "source": [
    "### First try to make challenge sets\n",
    "Worked together with Mekselina Doganc"
   ]
  },
  {
   "cell_type": "code",
   "execution_count": 1,
   "id": "df763f98-8df8-49b8-8166-274da71484e5",
   "metadata": {},
   "outputs": [],
   "source": [
    "import checklist\n",
    "import csv\n",
    "from checklist.editor import Editor\n",
    "from checklist.perturb import Perturb\n",
    "from checklist.test_types import MFT, INV, DIR\n",
    "from checklist.expect import Expect\n",
    "from sklearn.metrics import classification_report, confusion_matrix, ConfusionMatrixDisplay\n",
    "import matplotlib.pyplot as plt \n",
    "import pandas as pd\n",
    "import json"
   ]
  },
  {
   "cell_type": "code",
   "execution_count": 2,
   "id": "edd2002a-23e2-473f-93f1-481501e8ecf1",
   "metadata": {},
   "outputs": [],
   "source": [
    "# scrap some of the logging messages\n",
    "import logging\n",
    "logging.getLogger('allennlp.common.params').disabled = True \n",
    "logging.getLogger('allennlp.nn.initializers').disabled = True \n",
    "logging.getLogger('allennlp.modules.token_embedders.embedding').disabled = True \n",
    "logging.getLogger('urllib3.connectionpool').disabled = True \n",
    "logging.getLogger('allennlp.common.plugins').disabled = True \n",
    "logging.getLogger('allennlp.common.model_card').disabled = True \n",
    "logging.getLogger('allennlp.models.archival').disabled = True \n",
    "logging.getLogger('allennlp.data.vocabulary').disabled = True \n",
    "logging.getLogger('cached_path').disabled = True"
   ]
  },
  {
   "cell_type": "code",
   "execution_count": 3,
   "id": "aeaaf7cc-5f41-43ea-aaeb-3f59bbf83e8d",
   "metadata": {},
   "outputs": [],
   "source": [
    "from allennlp_models.pretrained import load_predictor"
   ]
  },
  {
   "cell_type": "code",
   "execution_count": 4,
   "id": "a134b82c-ecaa-4963-af6b-8685ca50b29c",
   "metadata": {},
   "outputs": [],
   "source": [
    "def write_to_file(filepath, sentences, label):\n",
    "    \"\"\"_summary_\n",
    "\n",
    "    Args:\n",
    "        filepath (str): _description_\n",
    "        sentences (list): _description_\n",
    "        label (str): _description_\n",
    "    \"\"\"\n",
    "    \n",
    "    with open(filepath, 'w', encoding='UTF8', newline='') as f:\n",
    "        output = csv.writer(f, delimiter='\\t')\n",
    "        for sentence in sentences: \n",
    "            output.writerow([sentence, label])"
   ]
  },
  {
   "cell_type": "code",
   "execution_count": 5,
   "id": "d5ad56c8-5008-469a-89f6-47648bb0f72a",
   "metadata": {},
   "outputs": [],
   "source": [
    "# initialize editor object\n",
    "editor = Editor()\n",
    "\n",
    "# create examples\n",
    "f = editor.template(\"{female} killed someone last night.\", meta=True, nsamples=1000)\n",
    "f_sentences = f.data\n",
    "\n",
    "m = editor.template(\"{male} killed someone last night.\", meta=True, nsamples=1000)\n",
    "m_sentences = m.data\n"
   ]
  },
  {
   "cell_type": "code",
   "execution_count": 6,
   "id": "1e6ba1cf-967d-412f-9616-b553603f2548",
   "metadata": {},
   "outputs": [],
   "source": [
    "write_to_file('challenge_sets/female_aggressor.csv', f_sentences, 'ARG0')\n",
    "write_to_file('challenge_sets/male_aggressor.csv', m_sentences, 'ARG0')"
   ]
  },
  {
   "cell_type": "code",
   "execution_count": 7,
   "id": "a15f509f-82ba-41f3-a459-965ce9401c96",
   "metadata": {},
   "outputs": [],
   "source": [
    "srl_predictor = load_predictor('structured-prediction-srl')\n",
    "f_all_preds = []\n",
    "f_pred_args = []\n",
    "f_gold_args = []\n",
    "\n",
    "with open('challenge_sets/female_aggressor.csv', 'r', encoding='utf-8') as file:\n",
    "    file = csv.reader(file, delimiter='\\t')\n",
    "    for row in file:\n",
    "        prediction = srl_predictor.predict(row[0])\n",
    "        f_all_preds.append(prediction)\n",
    "        predicted_arg = prediction['verbs'][0]['tags'][0].strip('B-').strip('I-')\n",
    "        f_pred_args.append(predicted_arg)\n",
    "        f_gold_args.append(row[1])\n",
    "\n",
    "# print(f_pred_args[:10])\n",
    "# print(f_gold_args[:10])"
   ]
  },
  {
   "cell_type": "code",
   "execution_count": 8,
   "id": "26ab0b67-9ec3-4028-a07b-d4c59fe7885c",
   "metadata": {},
   "outputs": [
    {
     "name": "stdout",
     "output_type": "stream",
     "text": [
      "['ARG0', 'ARG0', 'ARG0', 'ARG0', 'ARG0', 'ARG0', 'ARG0', 'ARG0', 'ARG0', 'ARG0']\n",
      "['ARG0', 'ARG0', 'ARG0', 'ARG0', 'ARG0', 'ARG0', 'ARG0', 'ARG0', 'ARG0', 'ARG0']\n"
     ]
    }
   ],
   "source": [
    "m_all_preds = []\n",
    "m_pred_args = []\n",
    "m_gold_args = []\n",
    "\n",
    "with open('challenge_sets/male_aggressor.csv', 'r', encoding='utf-8') as file:\n",
    "    file = csv.reader(file, delimiter='\\t')\n",
    "    for row in file:\n",
    "        prediction = srl_predictor.predict(row[0])\n",
    "        m_all_preds.append(prediction)\n",
    "        predicted_arg = prediction['verbs'][0]['tags'][0].strip('B-').strip('I-')\n",
    "        m_pred_args.append(predicted_arg)\n",
    "        m_gold_args.append(row[1])\n",
    "        \n",
    "print(m_pred_args[:10])\n",
    "print(m_gold_args[:10])"
   ]
  },
  {
   "cell_type": "code",
   "execution_count": 9,
   "id": "760b7b86-5ea5-44b5-bc79-776b1af4d025",
   "metadata": {},
   "outputs": [],
   "source": [
    "with open('predictions/m_aggressor_output.json', 'w') as mfile:\n",
    "    json_item = json.dumps(m_all_preds)\n",
    "    mfile.write(json_item)\n",
    "    \n",
    "with open('predictions/f_aggressor_output.json', 'w') as ffile:\n",
    "    json_item = json.dumps(f_all_preds)\n",
    "    ffile.write(json_item)"
   ]
  },
  {
   "cell_type": "code",
   "execution_count": null,
   "id": "806c2b41-9a37-4f00-b181-fbcd8daec9a6",
   "metadata": {},
   "outputs": [],
   "source": []
  },
  {
   "cell_type": "code",
   "execution_count": 15,
   "id": "a9416128-85c0-40a8-89e1-cbcd89fdcdb7",
   "metadata": {},
   "outputs": [
    {
     "data": {
      "image/png": "[encoded data removed]",
      "text/plain": [
       "<Figure size 432x288 with 2 Axes>"
      ]
     },
     "metadata": {
      "needs_background": "light"
     },
     "output_type": "display_data"
    }
   ],
   "source": [
    "f_cm = confusion_matrix(f_gold_args, f_pred_args)\n",
    "\n",
    "f_disp = ConfusionMatrixDisplay(confusion_matrix=f_cm)\n",
    "                    # display_labels=set(f_pred_args)) doesn't work right somehow\n",
    "f_disp.plot()\n",
    "plt.savefig('results/f_confusion.pdf', dpi=600)"
   ]
  },
  {
   "cell_type": "code",
   "execution_count": 16,
   "id": "689434d9-a8fc-4a78-bcfd-31b053cfb4e4",
   "metadata": {},
   "outputs": [
    {
     "data": {
      "image/png": "[encoded data removed]",
      "text/plain": [
       "<Figure size 432x288 with 2 Axes>"
      ]
     },
     "metadata": {
      "needs_background": "light"
     },
     "output_type": "display_data"
    }
   ],
   "source": [
    "m_cm = confusion_matrix(m_gold_args, m_pred_args)\n",
    "\n",
    "m_disp = ConfusionMatrixDisplay(confusion_matrix=m_cm)\n",
    "                           # display_labels=set(m_pred_args))\n",
    "m_disp.plot()\n",
    "plt.savefig('results/m_confusion.pdf', dpi=600)"
   ]
  },
  {
   "cell_type": "code",
   "execution_count": null,
   "id": "bf4b39f9-f443-4839-87e6-957f0f6d7bed",
   "metadata": {},
   "outputs": [],
   "source": []
  },
  {
   "cell_type": "code",
   "execution_count": null,
   "id": "3b8b4c77-d7f3-44e6-82ad-bfaa98b50672",
   "metadata": {},
   "outputs": [],
   "source": []
  },
  {
   "cell_type": "code",
   "execution_count": null,
   "id": "cd9d1d7e-98b9-4124-bba5-af14b0cb554d",
   "metadata": {},
   "outputs": [],
   "source": []
  }
 ],
 "metadata": {
  "kernelspec": {
   "display_name": "Python 3 (ipykernel)",
   "language": "python",
   "name": "python3"
  },
  "language_info": {
   "codemirror_mode": {
    "name": "ipython",
    "version": 3
   },
   "file_extension": ".py",
   "mimetype": "text/x-python",
   "name": "python",
   "nbconvert_exporter": "python",
   "pygments_lexer": "ipython3",
   "version": "3.7.11"
  }
 },
 "nbformat": 4,
 "nbformat_minor": 5
}
